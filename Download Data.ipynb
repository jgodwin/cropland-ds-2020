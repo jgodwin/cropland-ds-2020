{
 "cells": [
  {
   "cell_type": "markdown",
   "metadata": {},
   "source": [
    "# Download Data\n",
    "This script downloads the Kaggle dataset, unzips it, and puts it in an S3 bucket for further use."
   ]
  },
  {
   "cell_type": "code",
   "execution_count": 16,
   "metadata": {},
   "outputs": [],
   "source": [
    "# Upload Kaggle Token API Credentials\n",
    "# put kaggle api credentials here, just copy and paste the contents of kaggle.json inside the single quotes\n",
    "! echo '#CREDENTIALS GO HERE, INSIDE SINGLE QUOTES#' > /home/ec2-user/.kaggle/kaggle.json"
   ]
  },
  {
   "cell_type": "code",
   "execution_count": 17,
   "metadata": {},
   "outputs": [
    {
     "name": "stdout",
     "output_type": "stream",
     "text": [
      "Warning: Your Kaggle API key is readable by other users on this system! To fix this, you can run 'chmod 600 /home/ec2-user/.kaggle/kaggle.json'\n",
      "Downloading crop-classificationcs2292017usgscroplanddata.zip to /home/ec2-user/SageMaker\n",
      " 99%|█████████████████████████████████████▊| 1.96G/1.97G [00:36<00:00, 35.8MB/s]\n",
      "100%|██████████████████████████████████████| 1.97G/1.97G [00:36<00:00, 57.6MB/s]\n"
     ]
    }
   ],
   "source": [
    "# now download the dataset\n",
    "! kaggle datasets download -d bhavesh907/crop-classificationcs2292017usgscroplanddata"
   ]
  },
  {
   "cell_type": "code",
   "execution_count": 36,
   "metadata": {},
   "outputs": [
    {
     "name": "stderr",
     "output_type": "stream",
     "text": [
      "100%|██████████| 11/11 [01:45<00:00,  9.60s/it]\n"
     ]
    }
   ],
   "source": [
    "import zipfile, common\n",
    "import tqdm\n",
    "\n",
    "with zipfile.ZipFile('crop-classificationcs2292017usgscroplanddata.zip','r') as zf:\n",
    "    for name in tqdm.tqdm(zf.namelist()):\n",
    "        byteData = zf.read(name)\n",
    "        key = '/'.join(['cropland','data',name])\n",
    "        common.saveBytes(byteData, key)"
   ]
  }
 ],
 "metadata": {
  "kernelspec": {
   "display_name": "conda_python3",
   "language": "python",
   "name": "conda_python3"
  },
  "language_info": {
   "codemirror_mode": {
    "name": "ipython",
    "version": 3
   },
   "file_extension": ".py",
   "mimetype": "text/x-python",
   "name": "python",
   "nbconvert_exporter": "python",
   "pygments_lexer": "ipython3",
   "version": "3.6.5"
  }
 },
 "nbformat": 4,
 "nbformat_minor": 4
}
