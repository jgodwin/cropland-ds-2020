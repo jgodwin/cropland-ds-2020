{
 "cells": [
  {
   "cell_type": "markdown",
   "metadata": {},
   "source": [
    "# Install required CPU dependencies\n",
    "This script downloads all required depedencies and installs them into a local Sagemaker instance.  This particular script installs dependencies needed for CPU only pre-processing. Note: the GDAL installation is kind of tricky so you have to be careful to get the right versions installed."
   ]
  },
  {
   "cell_type": "code",
   "execution_count": 2,
   "metadata": {},
   "outputs": [
    {
     "name": "stdout",
     "output_type": "stream",
     "text": [
      "Requirement already satisfied: kaggle in /home/ec2-user/anaconda3/envs/python3/lib/python3.6/site-packages (1.5.6)\n",
      "Requirement already satisfied: six>=1.10 in /home/ec2-user/anaconda3/envs/python3/lib/python3.6/site-packages (from kaggle) (1.11.0)\n",
      "Requirement already satisfied: tqdm in /home/ec2-user/anaconda3/envs/python3/lib/python3.6/site-packages (from kaggle) (4.45.0)\n",
      "Requirement already satisfied: python-dateutil in /home/ec2-user/anaconda3/envs/python3/lib/python3.6/site-packages (from kaggle) (2.7.3)\n",
      "Requirement already satisfied: requests in /home/ec2-user/anaconda3/envs/python3/lib/python3.6/site-packages (from kaggle) (2.20.0)\n",
      "Requirement already satisfied: certifi in /home/ec2-user/anaconda3/envs/python3/lib/python3.6/site-packages (from kaggle) (2019.11.28)\n",
      "Requirement already satisfied: python-slugify in /home/ec2-user/anaconda3/envs/python3/lib/python3.6/site-packages (from kaggle) (4.0.0)\n",
      "Requirement already satisfied: urllib3<1.25,>=1.21.1 in /home/ec2-user/anaconda3/envs/python3/lib/python3.6/site-packages (from kaggle) (1.23)\n",
      "Requirement already satisfied: idna<2.8,>=2.5 in /home/ec2-user/anaconda3/envs/python3/lib/python3.6/site-packages (from requests->kaggle) (2.6)\n",
      "Requirement already satisfied: chardet<3.1.0,>=3.0.2 in /home/ec2-user/anaconda3/envs/python3/lib/python3.6/site-packages (from requests->kaggle) (3.0.4)\n",
      "Requirement already satisfied: text-unidecode>=1.3 in /home/ec2-user/anaconda3/envs/python3/lib/python3.6/site-packages (from python-slugify->kaggle) (1.3)\n",
      "\u001b[33mYou are using pip version 10.0.1, however version 20.0.2 is available.\n",
      "You should consider upgrading via the 'pip install --upgrade pip' command.\u001b[0m\n",
      "Requirement already satisfied: tqdm in /home/ec2-user/anaconda3/envs/python3/lib/python3.6/site-packages (4.45.0)\n",
      "\u001b[33mYou are using pip version 10.0.1, however version 20.0.2 is available.\n",
      "You should consider upgrading via the 'pip install --upgrade pip' command.\u001b[0m\n",
      "Requirement already satisfied: boto3 in /home/ec2-user/anaconda3/envs/python3/lib/python3.6/site-packages (1.12.27)\n",
      "Requirement already satisfied: botocore<1.16.0,>=1.15.27 in /home/ec2-user/anaconda3/envs/python3/lib/python3.6/site-packages (from boto3) (1.15.27)\n",
      "Requirement already satisfied: s3transfer<0.4.0,>=0.3.0 in /home/ec2-user/anaconda3/envs/python3/lib/python3.6/site-packages (from boto3) (0.3.3)\n",
      "Requirement already satisfied: jmespath<1.0.0,>=0.7.1 in /home/ec2-user/anaconda3/envs/python3/lib/python3.6/site-packages (from boto3) (0.9.4)\n",
      "Requirement already satisfied: docutils<0.16,>=0.10 in /home/ec2-user/anaconda3/envs/python3/lib/python3.6/site-packages (from botocore<1.16.0,>=1.15.27->boto3) (0.14)\n",
      "Requirement already satisfied: python-dateutil<3.0.0,>=2.1 in /home/ec2-user/anaconda3/envs/python3/lib/python3.6/site-packages (from botocore<1.16.0,>=1.15.27->boto3) (2.7.3)\n",
      "Requirement already satisfied: urllib3<1.26,>=1.20; python_version != \"3.4\" in /home/ec2-user/anaconda3/envs/python3/lib/python3.6/site-packages (from botocore<1.16.0,>=1.15.27->boto3) (1.23)\n",
      "Requirement already satisfied: six>=1.5 in /home/ec2-user/anaconda3/envs/python3/lib/python3.6/site-packages (from python-dateutil<3.0.0,>=2.1->botocore<1.16.0,>=1.15.27->boto3) (1.11.0)\n",
      "\u001b[33mYou are using pip version 10.0.1, however version 20.0.2 is available.\n",
      "You should consider upgrading via the 'pip install --upgrade pip' command.\u001b[0m\n",
      "Requirement already satisfied: terminalplot in /home/ec2-user/anaconda3/envs/python3/lib/python3.6/site-packages (0.3.0)\n",
      "Requirement already satisfied: seaborn in /home/ec2-user/anaconda3/envs/python3/lib/python3.6/site-packages (0.8.1)\n",
      "Requirement already satisfied: pandas in /home/ec2-user/anaconda3/envs/python3/lib/python3.6/site-packages (0.24.2)\n",
      "Requirement already satisfied: numpy in /home/ec2-user/anaconda3/envs/python3/lib/python3.6/site-packages (from seaborn) (1.14.3)\n",
      "Requirement already satisfied: scipy in /home/ec2-user/anaconda3/envs/python3/lib/python3.6/site-packages (from seaborn) (1.1.0)\n",
      "Requirement already satisfied: matplotlib in /home/ec2-user/anaconda3/envs/python3/lib/python3.6/site-packages (from seaborn) (3.0.3)\n",
      "Requirement already satisfied: pytz>=2011k in /home/ec2-user/anaconda3/envs/python3/lib/python3.6/site-packages (from pandas) (2018.4)\n",
      "Requirement already satisfied: python-dateutil>=2.5.0 in /home/ec2-user/anaconda3/envs/python3/lib/python3.6/site-packages (from pandas) (2.7.3)\n",
      "Requirement already satisfied: pyparsing!=2.0.4,!=2.1.2,!=2.1.6,>=2.0.1 in /home/ec2-user/anaconda3/envs/python3/lib/python3.6/site-packages (from matplotlib->seaborn) (2.2.0)\n",
      "Requirement already satisfied: cycler>=0.10 in /home/ec2-user/anaconda3/envs/python3/lib/python3.6/site-packages (from matplotlib->seaborn) (0.10.0)\n",
      "Requirement already satisfied: kiwisolver>=1.0.1 in /home/ec2-user/anaconda3/envs/python3/lib/python3.6/site-packages (from matplotlib->seaborn) (1.0.1)\n",
      "Requirement already satisfied: six>=1.5 in /home/ec2-user/anaconda3/envs/python3/lib/python3.6/site-packages (from python-dateutil>=2.5.0->pandas) (1.11.0)\n",
      "Requirement already satisfied: setuptools in /home/ec2-user/anaconda3/envs/python3/lib/python3.6/site-packages (from kiwisolver>=1.0.1->matplotlib->seaborn) (39.1.0)\n",
      "\u001b[33mYou are using pip version 10.0.1, however version 20.0.2 is available.\n",
      "You should consider upgrading via the 'pip install --upgrade pip' command.\u001b[0m\n"
     ]
    }
   ],
   "source": [
    "! pip install kaggle\n",
    "! pip install tqdm\n",
    "! pip install boto3\n",
    "! pip install terminalplot seaborn pandas\n"
   ]
  },
  {
   "cell_type": "code",
   "execution_count": 13,
   "metadata": {},
   "outputs": [
    {
     "name": "stdout",
     "output_type": "stream",
     "text": [
      "Solving environment: done\n",
      "\n",
      "\n",
      "==> WARNING: A newer version of conda exists. <==\n",
      "  current version: 4.5.12\n",
      "  latest version: 4.8.3\n",
      "\n",
      "Please update conda by running\n",
      "\n",
      "    $ conda update -n base -c defaults conda\n",
      "\n",
      "\n",
      "\n",
      "## Package Plan ##\n",
      "\n",
      "  environment location: /home/ec2-user/anaconda3/envs/python3\n",
      "\n",
      "  added / updated specs: \n",
      "    - gdal\n",
      "\n",
      "\n",
      "The following packages will be downloaded:\n",
      "\n",
      "    package                    |            build\n",
      "    ---------------------------|-----------------\n",
      "    gdal-2.2.2                 |   py36hc209d97_1         767 KB\n",
      "    proj4-4.9.3                |       hc8507d1_7         3.2 MB\n",
      "    libkml-1.3.0               |       h590aaf7_4         633 KB\n",
      "    freexl-1.0.5               |       h14c3975_0          44 KB\n",
      "    libnetcdf-4.4.1.1          |       h97d33d9_8         3.8 MB\n",
      "    pytables-3.4.4             |   py36he1c29e1_0         1.5 MB\n",
      "    h5py-2.8.0                 |   py36h39dcb92_0         1.1 MB\n",
      "    libboost-1.67.0            |       h46d08c1_4        20.9 MB\n",
      "    openjpeg-2.3.0             |       h05c96fa_1         456 KB\n",
      "    libpq-9.6.6                |       h4e02ad2_0         101 KB\n",
      "    giflib-5.1.4               |       h14c3975_1          78 KB\n",
      "    json-c-0.12.1              |       ha6a3662_2          50 KB\n",
      "    certifi-2020.4.5.1         |           py36_0         159 KB\n",
      "    hdf5-1.8.18                |       h6792536_1         4.2 MB\n",
      "    libdap4-3.19.1             |       h6ec2957_0         1.5 MB\n",
      "    libgdal-2.2.2              |       h6bd4d82_1        16.1 MB\n",
      "    libspatialite-4.3.0a       |      h72746d6_18         3.1 MB\n",
      "    poppler-0.65.0             |       ha54bb34_0         1.6 MB\n",
      "    hdf4-4.2.13                |       h3ca952b_2         916 KB\n",
      "    xerces-c-3.2.2             |       h780794e_0         3.2 MB\n",
      "    kealib-1.4.7               |       h5472223_5         171 KB\n",
      "    poppler-data-0.4.9         |                0         3.5 MB\n",
      "    geos-3.6.2                 |       heeff764_2         1.6 MB\n",
      "    ------------------------------------------------------------\n",
      "                                           Total:        68.7 MB\n",
      "\n",
      "The following NEW packages will be INSTALLED:\n",
      "\n",
      "    freexl:        1.0.5-h14c3975_0    \n",
      "    gdal:          2.2.2-py36hc209d97_1\n",
      "    geos:          3.6.2-heeff764_2    \n",
      "    giflib:        5.1.4-h14c3975_1    \n",
      "    hdf4:          4.2.13-h3ca952b_2   \n",
      "    json-c:        0.12.1-ha6a3662_2   \n",
      "    kealib:        1.4.7-h5472223_5    \n",
      "    libboost:      1.67.0-h46d08c1_4   \n",
      "    libdap4:       3.19.1-h6ec2957_0   \n",
      "    libgdal:       2.2.2-h6bd4d82_1    \n",
      "    libkml:        1.3.0-h590aaf7_4    \n",
      "    libnetcdf:     4.4.1.1-h97d33d9_8  \n",
      "    libpq:         9.6.6-h4e02ad2_0    \n",
      "    libspatialite: 4.3.0a-h72746d6_18  \n",
      "    libuuid:       1.0.3-h1bed415_2    \n",
      "    openjpeg:      2.3.0-h05c96fa_1    \n",
      "    poppler:       0.65.0-ha54bb34_0   \n",
      "    poppler-data:  0.4.9-0             \n",
      "    proj4:         4.9.3-hc8507d1_7    \n",
      "    xerces-c:      3.2.2-h780794e_0    \n",
      "\n",
      "The following packages will be UPDATED:\n",
      "\n",
      "    certifi:       2019.11.28-py36_0    --> 2020.4.5.1-py36_0   \n",
      "    pytables:      3.4.3-py36h02b9ad4_2 --> 3.4.4-py36he1c29e1_0\n",
      "\n",
      "The following packages will be DOWNGRADED:\n",
      "\n",
      "    h5py:          2.8.0-py36h989c5e5_3 --> 2.8.0-py36h39dcb92_0\n",
      "    hdf5:          1.10.2-hba1933b_1    --> 1.8.18-h6792536_1   \n",
      "\n",
      "\n",
      "Downloading and Extracting Packages\n",
      "gdal-2.2.2           | 767 KB    | ##################################### | 100% \n",
      "proj4-4.9.3          | 3.2 MB    | ##################################### | 100% \n",
      "libkml-1.3.0         | 633 KB    | ##################################### | 100% \n",
      "freexl-1.0.5         | 44 KB     | ##################################### | 100% \n",
      "libnetcdf-4.4.1.1    | 3.8 MB    | ##################################### | 100% \n",
      "pytables-3.4.4       | 1.5 MB    | ##################################### | 100% \n",
      "h5py-2.8.0           | 1.1 MB    | ##################################### | 100% \n",
      "libboost-1.67.0      | 20.9 MB   | ##################################### | 100% \n",
      "openjpeg-2.3.0       | 456 KB    | ##################################### | 100% \n",
      "libpq-9.6.6          | 101 KB    | ##################################### | 100% \n",
      "giflib-5.1.4         | 78 KB     | ##################################### | 100% \n",
      "json-c-0.12.1        | 50 KB     | ##################################### | 100% \n",
      "certifi-2020.4.5.1   | 159 KB    | ##################################### | 100% \n",
      "hdf5-1.8.18          | 4.2 MB    | ##################################### | 100% \n",
      "libdap4-3.19.1       | 1.5 MB    | ##################################### | 100% \n",
      "libgdal-2.2.2        | 16.1 MB   | ##################################### | 100% \n",
      "libspatialite-4.3.0a | 3.1 MB    | ##################################### | 100% \n",
      "poppler-0.65.0       | 1.6 MB    | ##################################### | 100% \n",
      "hdf4-4.2.13          | 916 KB    | ##################################### | 100% \n",
      "xerces-c-3.2.2       | 3.2 MB    | ##################################### | 100% \n",
      "kealib-1.4.7         | 171 KB    | ##################################### | 100% \n",
      "poppler-data-0.4.9   | 3.5 MB    | ##################################### | 100% \n",
      "geos-3.6.2           | 1.6 MB    | ##################################### | 100% \n",
      "Preparing transaction: done\n",
      "Verifying transaction: done\n",
      "Executing transaction: done\n"
     ]
    }
   ],
   "source": [
    "! conda install gdal --yes\n",
    "! conda install \"poppler<0.62\" --yes"
   ]
  },
  {
   "cell_type": "code",
   "execution_count": 32,
   "metadata": {},
   "outputs": [
    {
     "name": "stdout",
     "output_type": "stream",
     "text": [
      "GDAL 2.2.2, released 2017/09/15\r\n"
     ]
    }
   ],
   "source": [
    "!gdalinfo --version"
   ]
  },
  {
   "cell_type": "code",
   "execution_count": null,
   "metadata": {},
   "outputs": [],
   "source": []
  }
 ],
 "metadata": {
  "kernelspec": {
   "display_name": "conda_python3",
   "language": "python",
   "name": "conda_python3"
  },
  "language_info": {
   "codemirror_mode": {
    "name": "ipython",
    "version": 3
   },
   "file_extension": ".py",
   "mimetype": "text/x-python",
   "name": "python",
   "nbconvert_exporter": "python",
   "pygments_lexer": "ipython3",
   "version": "3.6.5"
  }
 },
 "nbformat": 4,
 "nbformat_minor": 4
}
